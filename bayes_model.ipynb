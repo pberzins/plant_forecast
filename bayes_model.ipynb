{
 "cells": [
  {
   "cell_type": "code",
   "execution_count": 1,
   "metadata": {},
   "outputs": [],
   "source": [
    "from src.final_product import PlantForecast\n",
    "import src.graphing_tools as gtools\n",
    "\n",
    "from sklearn.ensemble import GradientBoostingRegressor, RandomForestRegressor\n",
    "from sklearn.linear_model import LinearRegression, Ridge, Lasso\n",
    "from sklearn.model_selection import train_test_split\n",
    "from sklearn.metrics import mean_squared_error\n",
    "\n",
    "import os\n",
    "import time\n",
    "import gdal\n",
    "\n",
    "import matplotlib.pyplot as plt\n",
    "import matplotlib\n",
    "%matplotlib inline\n",
    "matplotlib.rcParams.update({'font.size': 22})"
   ]
  },
  {
   "cell_type": "code",
   "execution_count": 2,
   "metadata": {},
   "outputs": [],
   "source": [
    "import sampyl as smp\n",
    "from sampyl import np"
   ]
  },
  {
   "cell_type": "code",
   "execution_count": 3,
   "metadata": {},
   "outputs": [],
   "source": [
    "pf = PlantForecast()"
   ]
  },
  {
   "cell_type": "code",
   "execution_count": 4,
   "metadata": {},
   "outputs": [
    {
     "name": "stdout",
     "output_type": "stream",
     "text": [
      "Preloading from path: preloaded_data/2000_2017_ndvi.csv\n",
      "Preloading from path: preloaded_data/2000_2017_weather.csv\n"
     ]
    },
    {
     "data": {
      "text/plain": [
       "<src.final_product.PlantForecast at 0x10323e080>"
      ]
     },
     "execution_count": 4,
     "metadata": {},
     "output_type": "execute_result"
    }
   ],
   "source": [
    "pf.load_metadata()\n",
    "pf.load_ndvi(preloaded=True)\n",
    "pf.load_weather(preloaded=True)\n",
    "pf.merge_modis_weather(longterm=365)"
   ]
  },
  {
   "cell_type": "code",
   "execution_count": 5,
   "metadata": {},
   "outputs": [],
   "source": [
    "train_df, test_df=pf.train_test_split_by_year(test_years=[2015,2016,2017],train_years=list(range(2000,2015)))"
   ]
  },
  {
   "cell_type": "code",
   "execution_count": 6,
   "metadata": {},
   "outputs": [],
   "source": [
    "X_train= train_df[['PRCP','SNOW','SNOWD','TMAX','TMIN','LT_precip','LT_snow','LT_snowd', 'LT_tmax','LT_tmin','intercept']]\n",
    "y_train = train_df[['NDVI']].values.reshape(-1,)"
   ]
  },
  {
   "cell_type": "code",
   "execution_count": 7,
   "metadata": {},
   "outputs": [],
   "source": [
    "X_test= test_df[['PRCP','SNOW','SNOWD','TMAX','TMIN','LT_precip','LT_snow','LT_snowd', 'LT_tmax','LT_tmin','intercept']]\n",
    "y_test = test_df[['NDVI']].values.reshape(-1,)"
   ]
  },
  {
   "cell_type": "code",
   "execution_count": 22,
   "metadata": {},
   "outputs": [],
   "source": [
    "lin = None\n",
    "lin = LinearRegression()\n",
    "lin.fit(X_train, y_train)\n",
    "lin_pred = lin.predict(X_test)\n",
    "lin_score = lin.score(X_test, y_test)\n",
    "lin_mse = mean_squared_error(y_test, lin_pred)\n",
    "co = lin.coef_"
   ]
  },
  {
   "cell_type": "code",
   "execution_count": 23,
   "metadata": {},
   "outputs": [
    {
     "data": {
      "text/plain": [
       "array([  8.83825241,  -2.93644372,  -0.63480186,   0.4435363 ,\n",
       "         2.49536229,  20.95404189, -29.32767609,   0.91893265,\n",
       "       -18.7844601 ,  16.59960875,   0.        ])"
      ]
     },
     "execution_count": 23,
     "metadata": {},
     "output_type": "execute_result"
    }
   ],
   "source": [
    "co"
   ]
  },
  {
   "cell_type": "code",
   "execution_count": 8,
   "metadata": {},
   "outputs": [],
   "source": [
    "# Number of data points\n",
    "N = 200\n",
    "\n",
    "# True parameters\n",
    "sigma = 1\n",
    "true_b = np.array([2, 1, 4])\n",
    "\n",
    "# Features, including a constant\n",
    "X = np.ones((N, len(true_b)))\n",
    "X[:,1:] = np.random.rand(N, len(true_b)-1)\n",
    "\n",
    "# Outcomes\n",
    "y = np.dot(X, true_b) + np.random.randn(N)*sigma"
   ]
  },
  {
   "cell_type": "code",
   "execution_count": 32,
   "metadata": {},
   "outputs": [],
   "source": [
    "X = X_train.values"
   ]
  },
  {
   "cell_type": "code",
   "execution_count": 33,
   "metadata": {},
   "outputs": [],
   "source": [
    "y = y_train"
   ]
  },
  {
   "cell_type": "code",
   "execution_count": 34,
   "metadata": {},
   "outputs": [
    {
     "data": {
      "text/plain": [
       "array([2652.7421898298244, 2808.488028665045, 2901.3918105531093,\n",
       "       3185.683806234534, 3323.330547212315, 3295.610990323501,\n",
       "       3362.700168880468, 3602.5690126131835, 3611.1380716881126,\n",
       "       3233.6247749520007, 3256.848931719657, 3161.8255958178243,\n",
       "       3000.1975366741276, 2931.977293929619, 2883.6543647193926,\n",
       "       3182.465436232919, 2916.635669444603, 2815.1024092894795,\n",
       "       2663.544831711327, 2707.9086807955155, 2981.1096865723866,\n",
       "       2755.200568782241, 2825.0508391915864, 3011.290062814917,\n",
       "       3036.137730788855, 3436.985206407205, 3594.3583157616017,\n",
       "       3737.300530514613, 3651.0888741618896, 3426.046010606754,\n",
       "       3437.237618383359, 3505.174281804848, 3357.6033442604157,\n",
       "       3464.6945337345296, 3654.0469250308693, 3614.6669318605736,\n",
       "       3397.3183085619403, 3208.2543873235863, 3112.9277453190352,\n",
       "       3094.6003086858705, 2979.8753289748997, 2905.7172697740857,\n",
       "       2794.2652132592475, 2635.103079735017, 2702.2004221903508,\n",
       "       2619.3308961981897, 2564.343578870368, 2819.8697080700185,\n",
       "       2816.168282259295, 2961.600000292606, 3261.559820353185,\n",
       "       3147.9575229402967, 3228.297382802812, 2779.7606169835803,\n",
       "       3470.1413452075676, 3473.403380758772, 3292.7233609888813,\n",
       "       2957.5933842375407, 3529.609521196287, 3458.364393097917,\n",
       "       3466.179817547274, 3337.4600039986412, 3086.123076578243,\n",
       "       3092.2050941951866, 2957.1519609287834, 2878.8712775914137,\n",
       "       2757.599240075919, 2835.552539016576, 2850.578594200553,\n",
       "       2749.396429857586, 3045.465490320719, 3126.5674892998927,\n",
       "       3287.895357991993, 3205.858752813233, 3396.4019429603413,\n",
       "       3507.5196011645226, 3527.512299591624, 3483.5270015295923,\n",
       "       3396.4121294235338, 3246.016576870704, 3557.391642105263,\n",
       "       3564.578461905016, 3446.649409466588, 3327.0424756776715,\n",
       "       2963.180981036925, 3071.7226445966917, 2802.690975709253,\n",
       "       2729.261138088849, 2653.152342916949, 2704.816724155828,\n",
       "       2610.2099778152183, 2522.411863726748, 2564.9143128766905,\n",
       "       2985.079738900451, 3409.750015714766, 3599.926764216101,\n",
       "       3306.108226650474, 3424.833384270683, 3403.434749228108,\n",
       "       3839.146503092616, 3792.535686882037, 3844.307018645628,\n",
       "       4068.29836620984, 4012.374872863737, 3696.3962819477338,\n",
       "       3742.6797552275934, 3616.8966473691416, 3543.521277357845,\n",
       "       3420.1875410990583, 3160.30626472597, 2942.7340977457293,\n",
       "       2966.0860251577283, 2854.6154951112226, 2911.7055614036103,\n",
       "       2933.1004065321868, 3032.673477705298, 3239.694442471539,\n",
       "       3413.88635883272, 3712.6675969076464, 3833.7151460283376,\n",
       "       3772.794105433161, 3911.4897494908173, 3713.526742657745,\n",
       "       3680.3905281056877, 3643.4196569314495, 4087.4528933734014,\n",
       "       4043.8911038156675, 3823.051130292518, 3651.158691794135,\n",
       "       3581.8731904267042, 3273.9377563450903, 3058.3819398291785,\n",
       "       2829.8729528774193, 2776.843746466253, 2665.548488002271,\n",
       "       2612.281212975869, 2553.6290313360914, 2538.8057623885584,\n",
       "       2574.7433284730523, 2661.2945429879896, 2907.5588827712163,\n",
       "       3155.9904867009477, 3316.446268658712, 3194.6464120492114,\n",
       "       3199.1130672874697, 3305.3600640190166, 3324.448404957906,\n",
       "       3443.402469553359, 3691.575839720299, 3946.684873946792,\n",
       "       4005.409471277158, 3708.123136093283, 3610.958451236975,\n",
       "       3381.5663233124524, 3132.3534210477333, 2928.89087223273,\n",
       "       3056.8477106894047, 3000.8330368235997, 3109.400693798547,\n",
       "       2797.863321484899, 2633.6930752734197, 2682.287847544173,\n",
       "       3509.7608024930073, 3584.772980460346, 3731.4835371789363,\n",
       "       3925.109020366189, 4043.7635296980793, 3966.547056273047,\n",
       "       3582.089345323424, 3832.957767313135, 4133.7921529796495,\n",
       "       3864.30308124588, 3885.344514252631, 3994.5815304054663,\n",
       "       3725.2887502415633, 3418.6285870232477, 3138.250887762942,\n",
       "       3046.5195581430216, 2952.584171865811, 2783.517530841935,\n",
       "       2710.8302843572087, 2695.544466667578, 2585.217113445234,\n",
       "       2543.1204420884906, 2537.496059390752, 2631.599938606743,\n",
       "       2997.3022887311377, 3189.550502127321, 3345.2517747501442,\n",
       "       3315.008138128231, 3272.0849922478546, 3417.739806502045,\n",
       "       3678.8030579053193, 3608.796896290639, 3634.6039812681206,\n",
       "       4111.580944663305, 4070.8555481491935, 3695.7827378863844,\n",
       "       3636.200362505664, 3216.6501047208394, 3012.2709860276786,\n",
       "       2825.506094796084, 2759.541936186268, 2677.6879870797616,\n",
       "       2537.318582728103, 2480.714476156196, 2463.345221002474,\n",
       "       2534.547897582757, 2771.3979511454536, 2784.852798677093,\n",
       "       2772.8699726129553, 3480.731492431409, 3696.2828236694268,\n",
       "       3682.4475467301386, 3667.6133201283446, 3584.7239829223436,\n",
       "       3879.6084931253945, 3587.503154149141, 3351.0609459222314,\n",
       "       3670.233260236784, 3530.144244845347, 3424.387724890332,\n",
       "       3236.717420182803, 3096.6002998894, 2943.58337816737,\n",
       "       2846.2562332266593, 2864.150114459127, 2801.404679165545,\n",
       "       2835.7998104065728, 2585.3919855143945, 2643.414085123987,\n",
       "       2760.265941984645, 3072.97090390333, 3576.666642860625,\n",
       "       3466.289208592116, 3741.7175047527253, 3738.446445285677,\n",
       "       3720.6454521712294, 4020.4581281672718, 4073.127299420108,\n",
       "       3968.809149775928, 3804.3698697468662, 3782.93928909277,\n",
       "       3663.610415838425, 3450.8496256034255, 3212.95373463997,\n",
       "       3056.64512040183, 2856.6458588571973, 2877.82847006076,\n",
       "       2807.092694302078, 2647.361291350792, 2523.503203841235,\n",
       "       2557.641480012885, 2587.748669880921, 2748.4601639706816,\n",
       "       2891.1812081348908, 2984.1970573755834, 2982.872960698125,\n",
       "       2970.079092704773, 3005.908954219866, 3012.1709547479027,\n",
       "       3037.756470690729, 3133.436755476875, 3116.012187587906,\n",
       "       3121.643361158814, 3137.1085534822114, 3018.391937780484,\n",
       "       2986.081649441019, 2959.9645970049273, 2906.2308571194676,\n",
       "       2909.7786212289398, 2873.022884937051, 2760.846677154929,\n",
       "       2700.0209574486757, 2716.604178818505, 2806.807690482415,\n",
       "       2761.998984025489, 3210.3356667615035, 3392.96438846781,\n",
       "       3395.2875086033478, 3397.3965560562947, 3326.1802488113867,\n",
       "       3209.1144137889064, 3039.259108426991, 3256.850410836039,\n",
       "       3254.3851198814314, 3219.2100156271313, 3319.779300177152,\n",
       "       3365.223090583573, 3334.1700919065706, 3299.6792593239397,\n",
       "       3137.073226369674, 2988.5588918557896, 2851.670168806759,\n",
       "       2763.9608206665266, 2778.059057412819, 2629.7858028139512,\n",
       "       2653.509262769789, 2671.467276533358, 2617.747690554095,\n",
       "       2740.5232390553824, 2948.293832950309, 3018.8038649651216,\n",
       "       3162.8344212191078, 3104.5226180422997, 3228.608406160353,\n",
       "       3239.9620463340834, 3175.502788523781, 3652.091624905225,\n",
       "       3738.2620093483033, 3545.310305209468, 3802.167278585904,\n",
       "       3676.169841845434, 3543.388133954969, 3392.857132841583,\n",
       "       3128.188595670884, 3038.4700067807385, 2929.7740392318824,\n",
       "       2751.1794834468737, 2661.8260088393013, 2672.4478842709204,\n",
       "       2615.970697456589, 2628.4156358670684, 2743.667365325393,\n",
       "       2912.6014408726237, 3030.678193001078, 3121.333948937426,\n",
       "       3154.4170202067385, 3552.544608440444, 3636.8710655106615,\n",
       "       3658.1785525540145, 3797.651884694698, 3768.186912863141,\n",
       "       3589.072547784107, 3824.482678197901, 3688.816099714021,\n",
       "       3504.491548418113, 3409.9594032007208, 3020.5720298575948,\n",
       "       2906.964135783236, 2834.892872909361], dtype=object)"
      ]
     },
     "execution_count": 34,
     "metadata": {},
     "output_type": "execute_result"
    }
   ],
   "source": [
    "y"
   ]
  },
  {
   "cell_type": "code",
   "execution_count": 35,
   "metadata": {},
   "outputs": [],
   "source": [
    "import sampyl as smp\n",
    "from sampyl import np\n",
    "\n",
    "# Here, b is a length 3 array of coefficients\n",
    "def logp(b, sig):\n",
    "\n",
    "    model = smp.Model()\n",
    "\n",
    "    # Predicted value\n",
    "    y_hat = np.dot(X, b)\n",
    "\n",
    "    # Log-likelihood\n",
    "    model.add(smp.normal(y, mu=y_hat, sig=sig))\n",
    "\n",
    "    # log-priors\n",
    "    model.add(smp.exponential(sig),\n",
    "              smp.normal(b, mu=0, sig=100))\n",
    "\n",
    "    return model()"
   ]
  },
  {
   "cell_type": "code",
   "execution_count": 36,
   "metadata": {},
   "outputs": [],
   "source": [
    "test = np.array([1,2,3])"
   ]
  },
  {
   "cell_type": "code",
   "execution_count": null,
   "metadata": {},
   "outputs": [
    {
     "name": "stdout",
     "output_type": "stream",
     "text": [
      "Progress: [########----------------------] 75 of 300 samples"
     ]
    }
   ],
   "source": [
    "start = smp.find_MAP(logp, {'b': np.ones(11), 'sig': 1.})\n",
    "nuts = smp.NUTS(logp, start)\n",
    "chain = nuts.sample(300, burn=20)"
   ]
  },
  {
   "cell_type": "code",
   "execution_count": 41,
   "metadata": {},
   "outputs": [
    {
     "data": {
      "text/plain": [
       "[<matplotlib.lines.Line2D at 0x1a0ff577b8>,\n",
       " <matplotlib.lines.Line2D at 0x1a0ff575c0>,\n",
       " <matplotlib.lines.Line2D at 0x1a0ff57390>,\n",
       " <matplotlib.lines.Line2D at 0x1a0ff57160>,\n",
       " <matplotlib.lines.Line2D at 0x1a0ff57cf8>,\n",
       " <matplotlib.lines.Line2D at 0x1a0ff57748>,\n",
       " <matplotlib.lines.Line2D at 0x1a0ff570f0>,\n",
       " <matplotlib.lines.Line2D at 0x1a0ff48dd8>,\n",
       " <matplotlib.lines.Line2D at 0x1a0ff48ba8>,\n",
       " <matplotlib.lines.Line2D at 0x1a0ff489b0>,\n",
       " <matplotlib.lines.Line2D at 0x1a0ffab7f0>]"
      ]
     },
     "execution_count": 41,
     "metadata": {},
     "output_type": "execute_result"
    },
    {
     "data": {
      "image/png": "[encoded data removed]",
      "text/plain": [
       "<Figure size 432x288 with 1 Axes>"
      ]
     },
     "metadata": {},
     "output_type": "display_data"
    }
   ],
   "source": [
    "import matplotlib.pyplot as plt\n",
    "plt.plot(chain.b)"
   ]
  },
  {
   "cell_type": "code",
   "execution_count": null,
   "metadata": {},
   "outputs": [],
   "source": []
  }
 ],
 "metadata": {
  "kernelspec": {
   "display_name": "Python 3",
   "language": "python",
   "name": "python3"
  },
  "language_info": {
   "codemirror_mode": {
    "name": "ipython",
    "version": 3
   },
   "file_extension": ".py",
   "mimetype": "text/x-python",
   "name": "python",
   "nbconvert_exporter": "python",
   "pygments_lexer": "ipython3",
   "version": "3.6.5"
  }
 },
 "nbformat": 4,
 "nbformat_minor": 2
}
