{
 "cells": [
  {
   "cell_type": "code",
   "execution_count": 1,
   "metadata": {},
   "outputs": [],
   "source": [
    "from src.final_product import PlantForecast\n",
    "import src.graphing_tools as gtools\n",
    "\n",
    "from sklearn.ensemble import GradientBoostingRegressor, RandomForestRegressor\n",
    "from sklearn.linear_model import LinearRegression, Ridge, Lasso\n",
    "from sklearn.model_selection import train_test_split\n",
    "from sklearn.metrics import mean_squared_error\n",
    "\n",
    "import os\n",
    "import time\n",
    "import gdal\n",
    "\n",
    "import matplotlib.pyplot as plt\n",
    "import matplotlib\n",
    "%matplotlib inline\n",
    "matplotlib.rcParams.update({'font.size': 22})"
   ]
  },
  {
   "cell_type": "code",
   "execution_count": 2,
   "metadata": {},
   "outputs": [],
   "source": [
    "import sampyl as smp\n",
    "from sampyl import np"
   ]
  },
  {
   "cell_type": "code",
   "execution_count": 3,
   "metadata": {},
   "outputs": [],
   "source": [
    "pf = PlantForecast()"
   ]
  },
  {
   "cell_type": "code",
   "execution_count": 4,
   "metadata": {},
   "outputs": [
    {
     "name": "stdout",
     "output_type": "stream",
     "text": [
      "Preloading from path: preloaded_data/2000_2017_ndvi.csv\n",
      "Preloading from path: preloaded_data/2000_2017_weather.csv\n"
     ]
    },
    {
     "data": {
      "text/plain": [
       "<src.final_product.PlantForecast at 0x10323e080>"
      ]
     },
     "execution_count": 4,
     "metadata": {},
     "output_type": "execute_result"
    }
   ],
   "source": [
    "pf.load_metadata()\n",
    "pf.load_ndvi(preloaded=True)\n",
    "pf.load_weather(preloaded=True)\n",
    "pf.merge_modis_weather(longterm=365)"
   ]
  },
  {
   "cell_type": "code",
   "execution_count": 5,
   "metadata": {},
   "outputs": [],
   "source": [
    "train_df, test_df=pf.train_test_split_by_year(test_years=[2015,2016,2017],train_years=list(range(2000,2015)))"
   ]
  },
  {
   "cell_type": "code",
   "execution_count": 6,
   "metadata": {},
   "outputs": [],
   "source": [
    "X_train= train_df[['PRCP','SNOW','SNOWD','TMAX','TMIN','LT_precip','LT_snow','LT_snowd', 'LT_tmax','LT_tmin','intercept']]\n",
    "y_train = train_df[['NDVI']].values.reshape(-1,)"
   ]
  },
  {
   "cell_type": "code",
   "execution_count": 7,
   "metadata": {},
   "outputs": [],
   "source": [
    "X_test= test_df[['PRCP','SNOW','SNOWD','TMAX','TMIN','LT_precip','LT_snow','LT_snowd', 'LT_tmax','LT_tmin','intercept']]\n",
    "y_test = test_df[['NDVI']].values.reshape(-1,)"
   ]
  },
  {
   "cell_type": "code",
   "execution_count": 8,
   "metadata": {},
   "outputs": [],
   "source": [
    "# Number of data points\n",
    "N = 200\n",
    "\n",
    "# True parameters\n",
    "sigma = 1\n",
    "true_b = np.array([2, 1, 4])\n",
    "\n",
    "# Features, including a constant\n",
    "X = np.ones((N, len(true_b)))\n",
    "X[:,1:] = np.random.rand(N, len(true_b)-1)\n",
    "\n",
    "# Outcomes\n",
    "y = np.dot(X, true_b) + np.random.randn(N)*sigma"
   ]
  },
  {
   "cell_type": "code",
   "execution_count": 9,
   "metadata": {},
   "outputs": [],
   "source": [
    "import sampyl as smp\n",
    "from sampyl import np\n",
    "\n",
    "# Here, b is a length 3 array of coefficients\n",
    "def logp(b, sig):\n",
    "\n",
    "    model = smp.Model()\n",
    "\n",
    "    # Predicted value\n",
    "    y_hat = np.dot(X, b)\n",
    "\n",
    "    # Log-likelihood\n",
    "    model.add(smp.normal(y, mu=y_hat, sig=sig))\n",
    "\n",
    "    # log-priors\n",
    "    model.add(smp.exponential(sig),\n",
    "              smp.normal(b, mu=0, sig=100))\n",
    "\n",
    "    return model()"
   ]
  },
  {
   "cell_type": "code",
   "execution_count": 11,
   "metadata": {},
   "outputs": [
    {
     "name": "stdout",
     "output_type": "stream",
     "text": [
      "Progress: [##############################] 100 of 100 samples\n"
     ]
    }
   ],
   "source": [
    "start = smp.find_MAP(logp, {'b': np.ones(3), 'sig': 1.})\n",
    "nuts = smp.NUTS(logp, start)\n",
    "chain = nuts.sample(100, burn=100)"
   ]
  },
  {
   "cell_type": "code",
   "execution_count": null,
   "metadata": {},
   "outputs": [],
   "source": []
  }
 ],
 "metadata": {
  "kernelspec": {
   "display_name": "Python 3",
   "language": "python",
   "name": "python3"
  },
  "language_info": {
   "codemirror_mode": {
    "name": "ipython",
    "version": 3
   },
   "file_extension": ".py",
   "mimetype": "text/x-python",
   "name": "python",
   "nbconvert_exporter": "python",
   "pygments_lexer": "ipython3",
   "version": "3.6.5"
  }
 },
 "nbformat": 4,
 "nbformat_minor": 2
}
