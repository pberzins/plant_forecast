{
 "cells": [
  {
   "cell_type": "code",
   "execution_count": 1,
   "metadata": {},
   "outputs": [
    {
     "name": "stdout",
     "output_type": "stream",
     "text": [
      "WARNING: Python GDAL library not found, please install it to check data downloaded with pyModis\n",
      "qualitymodis and convertmodis_gdal modules not enabled, maybe Python GDAL is missing\n",
      "WxPython missing, no GUI enabled\n"
     ]
    }
   ],
   "source": [
    "import numpy as np \n",
    "import pandas as pd \n",
    "from pymodis import downmodis\n",
    "import glob\n"
   ]
  },
  {
   "cell_type": "code",
   "execution_count": 6,
   "metadata": {},
   "outputs": [],
   "source": [
    "dest = 'data/modis_co/'\n",
    "tiles= 'h09v05'\n",
    "day = '2000.01.01'\n",
    "enddate= '2010.01.01'\n",
    "product= 'MOD13A2.006'"
   ]
  },
  {
   "cell_type": "code",
   "execution_count": 8,
   "metadata": {},
   "outputs": [
    {
     "name": "stdout",
     "output_type": "stream",
     "text": [
      "['data/modis_co/MOD13A2.A2001017.h09v05.006.2015140091536.hdf', 'data/modis_co/MOD13A2.A2008257.h09v05.006.2015179215641.hdf', 'data/modis_co/MOD13A2.A2007145.h09v05.006.2015161235706.hdf', 'data/modis_co/MOD13A2.A2003209.h09v05.006.2015153105751.hdf', 'data/modis_co/MOD13A2.A2007065.h09v05.006.2015161224607.hdf', 'data/modis_co/MOD13A2.A2005337.h09v05.006.2015157062154.hdf', 'data/modis_co/MOD13A2.A2003305.h09v05.006.2015153124708.hdf', 'data/modis_co/MOD13A2.A2009305.h09v05.006.2015196133644.hdf', 'data/modis_co/MOD13A2.A2000321.h09v05.006.2015139221401.hdf', 'data/modis_co/MOD13A2.A2005257.h09v05.006.2015157060419.hdf', 'data/modis_co/MOD13A2.A2000193.h09v05.006.2015138073335.hdf', 'data/modis_co/MOD13A2.A2001161.h09v05.006.2015143072315.hdf', 'data/modis_co/MOD13A2.A2000065.h09v05.006.2015136022404.hdf', 'data/modis_co/MOD13A2.A2008145.h09v05.006.2015175110740.hdf', 'data/modis_co/MOD13A2.A2009273.h09v05.006.2015195125825.hdf', 'data/modis_co/MOD13A2.A2006097.h09v05.006.2015161150102.hdf', 'data/modis_co/MOD13A2.A2003241.h09v05.006.2015153113809.hdf', 'data/modis_co/MOD13A2.A2006129.h09v05.006.2015161160916.hdf', 'data/modis_co/MOD13A2.A2006113.h09v05.006.2015161154345.hdf', 'data/modis_co/MOD13A2.A2005113.h09v05.006.2015157051047.hdf', 'data/modis_co/MOD13A2.A2002033.h09v05.006.2015146145316.hdf', 'data/modis_co/MOD13A2.A2005049.h09v05.006.2015157043618.hdf', 'data/modis_co/MOD13A2.A2001273.h09v05.006.2015144055157.hdf', 'data/modis_co/MOD13A2.A2004353.h09v05.006.2018226091436.hdf', 'data/modis_co/MOD13A2.A2006337.h09v05.006.2015161213223.hdf', 'data/modis_co/MOD13A2.A2007017.h09v05.006.2015161215758.hdf', 'data/modis_co/MOD13A2.A2000177.h09v05.006.2015138071927.hdf', 'data/modis_co/MOD13A2.A2001225.h09v05.006.2015144060245.hdf', 'data/modis_co/MOD13A2.A2003065.h09v05.006.2015156190544.hdf', 'data/modis_co/MOD13A2.A2002129.h09v05.006.2015147233227.hdf', 'data/modis_co/MOD13A2.A2002289.h09v05.006.2015152035014.hdf', 'data/modis_co/MOD13A2.A2003001.h09v05.006.2015153073746.hdf', 'data/modis_co/MOD13A2.A2003161.h09v05.006.2015159133658.hdf', 'data/modis_co/MOD13A2.A2001113.h09v05.006.2015142195057.hdf', 'data/modis_co/MOD13A2.A2003033.h09v05.006.2015156052436.hdf', 'data/modis_co/MOD13A2.A2005129.h09v05.006.2015157050710.hdf', 'data/modis_co/MOD13A2.A2004305.h09v05.006.2015154140242.hdf', 'data/modis_co/MOD13A2.A2002097.h09v05.006.2015147211158.hdf', 'data/modis_co/MOD13A2.A2002257.h09v05.006.2015151082631.hdf', 'data/modis_co/MOD13A2.A2005033.h09v05.006.2015157042754.hdf', 'data/modis_co/MOD13A2.A2001049.h09v05.006.2015142165738.hdf', 'data/modis_co/MOD13A2.A2009001.h09v05.006.2015186060358.hdf', 'data/modis_co/MOD13A2.A2001145.h09v05.006.2015143102024.hdf', 'data/modis_co/MOD13A2.A2009241.h09v05.006.2015194150834.hdf', 'data/modis_co/MOD13A2.A2000305.h09v05.006.2015139074250.hdf', 'data/modis_co/MOD13A2.A2008049.h09v05.006.2015172131633.hdf', 'data/modis_co/MOD13A2.A2001321.h09v05.006.2015146035803.hdf', 'data/modis_co/MOD13A2.A2002305.h09v05.006.2015152035536.hdf', 'data/modis_co/MOD13A2.A2007273.h09v05.006.2015167050025.hdf', 'data/modis_co/MOD13A2.A2004241.h09v05.006.2015154133917.hdf', 'data/modis_co/MOD13A2.A2009033.h09v05.006.2015187064819.hdf', 'data/modis_co/MOD13A2.A2000113.h09v05.006.2015137034821.hdf', 'data/modis_co/MOD13A2.A2008289.h09v05.006.2015180221731.hdf', 'data/modis_co/MOD13A2.A2004161.h09v05.006.2015154125756.hdf', 'data/modis_co/MOD13A2.A2006241.h09v05.006.2015161195510.hdf', 'data/modis_co/MOD13A2.A2002017.h09v05.006.2015146122306.hdf', 'data/modis_co/MOD13A2.A2008225.h09v05.006.2015178163428.hdf', 'data/modis_co/MOD13A2.A2005081.h09v05.006.2015157044817.hdf', 'data/modis_co/MOD13A2.A2001305.h09v05.006.2015146022841.hdf', 'data/modis_co/MOD13A2.A2000081.h09v05.006.2015136040831.hdf', 'data/modis_co/MOD13A2.A2008353.h09v05.006.2018226094656.hdf', 'data/modis_co/MOD13A2.A2001241.h09v05.006.2015144061137.hdf', 'data/modis_co/MOD13A2.A2003049.h09v05.006.2015156080030.hdf', 'data/modis_co/MOD13A2.A2001001.h09v05.006.2015140083431.hdf', 'data/modis_co/MOD13A2.A2002145.h09v05.006.2015148102552.hdf', 'data/modis_co/MOD13A2.A2005241.h09v05.006.2015157054725.hdf', 'data/modis_co/MOD13A2.A2009209.h09v05.006.2015192140802.hdf', 'data/modis_co/MOD13A2.A2007337.h09v05.006.2015169032422.hdf', 'data/modis_co/MOD13A2.A2007049.h09v05.006.2015161222139.hdf', 'data/modis_co/MOD13A2.A2007033.h09v05.006.2015161220009.hdf', 'data/modis_co/MOD13A2.A2005289.h09v05.006.2015157061119.hdf', 'data/modis_co/MOD13A2.A2000209.h09v05.006.2015138073829.hdf', 'data/modis_co/MOD13A2.A2000161.h09v05.006.2015137043949.hdf', 'data/modis_co/MOD13A2.A2002161.h09v05.006.2015148093658.hdf', 'data/modis_co/MOD13A2.A2000337.h09v05.006.2015140091538.hdf', 'data/modis_co/MOD13A2.A2005321.h09v05.006.2015157061821.hdf', 'data/modis_co/MOD13A2.A2007209.h09v05.006.2015164011322.hdf', 'data/modis_co/MOD13A2.A2000257.h09v05.006.2015139073229.hdf', 'data/modis_co/MOD13A2.A2003097.h09v05.006.2015158151631.hdf', 'data/modis_co/MOD13A2.A2004177.h09v05.006.2015154131136.hdf', 'data/modis_co/MOD13A2.A2003177.h09v05.006.2015161125649.hdf', 'data/modis_co/MOD13A2.A2006033.h09v05.006.2015161115014.hdf', 'data/modis_co/MOD13A2.A2006049.h09v05.006.2015161112909.hdf', 'data/modis_co/MOD13A2.A2008193.h09v05.006.2015177040229.hdf', 'data/modis_co/MOD13A2.A2001353.h09v05.006.2018226092215.hdf', 'data/modis_co/MOD13A2.A2003321.h09v05.006.2015153130456.hdf', 'data/modis_co/MOD13A2.A2008113.h09v05.006.2015173161739.hdf', 'data/modis_co/MOD13A2.A2005273.h09v05.006.2015157060326.hdf', 'data/modis_co/MOD13A2.A2002321.h09v05.006.2015152172231.hdf', 'data/modis_co/MOD13A2.A2000289.h09v05.006.2015139084742.hdf', 'data/modis_co/MOD13A2.A2001337.h09v05.006.2015146031354.hdf', 'data/modis_co/MOD13A2.A2009193.h09v05.006.2015192140813.hdf', 'data/modis_co/MOD13A2.A2007257.h09v05.006.2015167042051.hdf', 'data/modis_co/MOD13A2.A2009129.h09v05.006.2015189211801.hdf', 'data/modis_co/MOD13A2.A2008033.h09v05.006.2015170041639.hdf', 'data/modis_co/MOD13A2.A2006321.h09v05.006.2015161211457.hdf', 'data/modis_co/MOD13A2.A2004273.h09v05.006.2015154135133.hdf', 'data/modis_co/MOD13A2.A2009337.h09v05.006.2015197060356.hdf', 'data/modis_co/MOD13A2.A2009081.h09v05.006.2015188084312.hdf', 'data/modis_co/MOD13A2.A2004049.h09v05.006.2015154124814.hdf', 'data/modis_co/MOD13A2.A2007113.h09v05.006.2015161232611.hdf', 'data/modis_co/MOD13A2.A2005065.h09v05.006.2015157043619.hdf', 'data/modis_co/MOD13A2.A2003337.h09v05.006.2015153130905.hdf', 'data/modis_co/MOD13A2.A2007289.h09v05.006.2015167192020.hdf', 'data/modis_co/MOD13A2.A2003129.h09v05.006.2015158153510.hdf', 'data/modis_co/MOD13A2.A2002353.h09v05.006.2018226091811.hdf', 'data/modis_co/MOD13A2.A2009097.h09v05.006.2015189152530.hdf', 'data/modis_co/MOD13A2.A2002081.h09v05.006.2015147122348.hdf', 'data/modis_co/MOD13A2.A2004065.h09v05.006.2015154124722.hdf', 'data/modis_co/MOD13A2.A2004289.h09v05.006.2015154134647.hdf', 'data/modis_co/MOD13A2.A2008177.h09v05.006.2015176070802.hdf', 'data/modis_co/MOD13A2.A2005097.h09v05.006.2015157044235.hdf', 'data/modis_co/MOD13A2.A2002225.h09v05.006.2015150025325.hdf', 'data/modis_co/MOD13A2.A2006353.h09v05.006.2018226090131.hdf', 'data/modis_co/MOD13A2.A2000097.h09v05.006.2015136041118.hdf', 'data/modis_co/MOD13A2.A2005353.h09v05.006.2018226090746.hdf', 'data/modis_co/MOD13A2.A2007321.h09v05.006.2015168094858.hdf', 'data/modis_co/MOD13A2.A2007129.h09v05.006.2015161234556.hdf', 'data/modis_co/MOD13A2.A2009177.h09v05.006.2015191092618.hdf', 'data/modis_co/MOD13A2.A2009257.h09v05.006.2015194230727.hdf', 'data/modis_co/MOD13A2.A2008081.h09v05.006.2015173010713.hdf', 'data/modis_co/MOD13A2.A2000145.h09v05.006.2015137094940.hdf', 'data/modis_co/MOD13A2.A2008161.h09v05.006.2015176070822.hdf', 'data/modis_co/MOD13A2.A2002209.h09v05.006.2015149180651.hdf', 'data/modis_co/MOD13A2.A2002065.h09v05.006.2015147115254.hdf', 'data/modis_co/MOD13A2.A2004081.h09v05.006.2015154124736.hdf', 'data/modis_co/MOD13A2.A2007177.h09v05.006.2015162002439.hdf', 'data/modis_co/MOD13A2.A2001129.h09v05.006.2015142064459.hdf', 'data/modis_co/MOD13A2.A2002113.h09v05.006.2015147220336.hdf', 'data/modis_co/MOD13A2.A2006177.h09v05.006.2015161174157.hdf', 'data/modis_co/MOD13A2.A2003273.h09v05.006.2015153115144.hdf', 'data/modis_co/MOD13A2.A2007193.h09v05.006.2015162002740.hdf', 'data/modis_co/MOD13A2.A2008209.h09v05.006.2015177044319.hdf', 'data/modis_co/MOD13A2.A2000273.h09v05.006.2015139075532.hdf', 'data/modis_co/MOD13A2.A2001193.h09v05.006.2015143122420.hdf', 'data/modis_co/MOD13A2.A2004257.h09v05.006.2015154133412.hdf', 'data/modis_co/MOD13A2.A2006289.h09v05.006.2015161204629.hdf', 'data/modis_co/MOD13A2.A2003081.h09v05.006.2015156190533.hdf', 'data/modis_co/MOD13A2.A2002337.h09v05.006.2015153065530.hdf', 'data/modis_co/MOD13A2.A2002001.h09v05.006.2015146150629.hdf', 'data/modis_co/MOD13A2.A2008337.h09v05.006.2015184002822.hdf', 'data/modis_co/MOD13A2.A2001065.h09v05.006.2015142182356.hdf', 'data/modis_co/MOD13A2.A2001257.h09v05.006.2015144064440.hdf', 'data/modis_co/MOD13A2.A2005225.h09v05.006.2015157054737.hdf', 'data/modis_co/MOD13A2.A2004193.h09v05.006.2015154131724.hdf', 'data/modis_co/MOD13A2.A2000129.h09v05.006.2015137052212.hdf', 'data/modis_co/MOD13A2.A2009017.h09v05.006.2015186062331.hdf', 'data/modis_co/MOD13A2.A2008273.h09v05.006.2015180221008.hdf', 'data/modis_co/MOD13A2.A2004209.h09v05.006.2015154132601.hdf', 'data/modis_co/MOD13A2.A2002049.h09v05.006.2015146124300.hdf', 'data/modis_co/MOD13A2.A2005177.h09v05.006.2015157053018.hdf', 'data/modis_co/MOD13A2.A2004001.h09v05.006.2015154120220.hdf', 'data/modis_co/MOD13A2.A2002193.h09v05.006.2015149024718.hdf', 'data/modis_co/MOD13A2.A2004225.h09v05.006.2015154133432.hdf', 'data/modis_co/MOD13A2.A2003113.h09v05.006.2015158152102.hdf', 'data/modis_co/MOD13A2.A2007097.h09v05.006.2015161232000.hdf', 'data/modis_co/MOD13A2.A2007161.h09v05.006.2015162000211.hdf', 'data/modis_co/MOD13A2.A2004097.h09v05.006.2015154124319.hdf', 'data/modis_co/MOD13A2.A2001177.h09v05.006.2015143093619.hdf', 'data/modis_co/MOD13A2.A2008305.h09v05.006.2015181141336.hdf', 'data/modis_co/MOD13A2.A2000049.h09v05.006.2015136104435.hdf', 'data/modis_co/MOD13A2.A2005017.h09v05.006.2015157042701.hdf', 'data/modis_co/MOD13A2.A2010001.h09v05.006.2015198101939.hdf', 'data/modis_co/MOD13A2.A2009145.h09v05.006.2015190115729.hdf', 'data/modis_co/MOD13A2.A2002273.h09v05.006.2015151081231.hdf', 'data/modis_co/MOD13A2.A2006257.h09v05.006.2015161200627.hdf', 'data/modis_co/MOD13A2.A2007353.h09v05.006.2018222150145.hdf', 'data/modis_co/MOD13A2.A2003353.h09v05.006.2018222145839.hdf', 'data/modis_co/MOD13A2.A2007305.h09v05.006.2015168084128.hdf', 'data/modis_co/MOD13A2.A2009353.h09v05.006.2018226093944.hdf', 'data/modis_co/MOD13A2.A2007225.h09v05.006.2015164160528.hdf', 'data/modis_co/MOD13A2.A2008129.h09v05.006.2015175092137.hdf', 'data/modis_co/MOD13A2.A2006001.h09v05.006.2015161090311.hdf', 'data/modis_co/MOD13A2.A2009065.h09v05.006.2015188085319.hdf', 'data/modis_co/MOD13A2.A2004129.h09v05.006.2015154125354.hdf', 'data/modis_co/MOD13A2.A2005161.h09v05.006.2015157051134.hdf', 'data/modis_co/MOD13A2.A2005193.h09v05.006.2015157052555.hdf', 'data/modis_co/MOD13A2.A2009161.h09v05.006.2015190221730.hdf', 'data/modis_co/MOD13A2.A2007001.h09v05.006.2015160165327.hdf', 'data/modis_co/MOD13A2.A2001209.h09v05.006.2015143163838.hdf', 'data/modis_co/MOD13A2.A2003145.h09v05.006.2015158154309.hdf', 'data/modis_co/MOD13A2.A2003289.h09v05.006.2015153122056.hdf', 'data/modis_co/MOD13A2.A2004321.h09v05.006.2015154140716.hdf', 'data/modis_co/MOD13A2.A2005145.h09v05.006.2015157051731.hdf', 'data/modis_co/MOD13A2.A2009289.h09v05.006.2015195223655.hdf', 'data/modis_co/MOD13A2.A2006305.h09v05.006.2015161210444.hdf', 'data/modis_co/MOD13A2.A2003225.h09v05.006.2015153113835.hdf', 'data/modis_co/MOD13A2.A2007081.h09v05.006.2015161230649.hdf', 'data/modis_co/MOD13A2.A2008321.h09v05.006.2015181145917.hdf', 'data/modis_co/MOD13A2.A2006209.h09v05.006.2015161191607.hdf', 'data/modis_co/MOD13A2.A2006065.h09v05.006.2015161115933.hdf', 'data/modis_co/MOD13A2.A2006081.h09v05.006.2015161121443.hdf', 'data/modis_co/MOD13A2.A2008097.h09v05.006.2015173053538.hdf', 'data/modis_co/MOD13A2.A2004033.h09v05.006.2015154122246.hdf', 'data/modis_co/MOD13A2.A2006225.h09v05.006.2015161193139.hdf', 'data/modis_co/MOD13A2.A2008017.h09v05.006.2015170042819.hdf', 'data/modis_co/MOD13A2.A2004145.h09v05.006.2015154125920.hdf', 'data/modis_co/MOD13A2.A2004337.h09v05.006.2015154141346.hdf', 'data/modis_co/MOD13A2.A2001033.h09v05.006.2015141153008.hdf', 'data/modis_co/MOD13A2.A2008065.h09v05.006.2015172180727.hdf', 'data/modis_co/MOD13A2.A2008001.h09v05.006.2015169100812.hdf', 'data/modis_co/MOD13A2.A2004017.h09v05.006.2015154121602.hdf', 'data/modis_co/MOD13A2.A2009049.h09v05.006.2015187063244.hdf', 'data/modis_co/MOD13A2.A2009113.h09v05.006.2015189135508.hdf', 'data/modis_co/MOD13A2.A2004113.h09v05.006.2015154124945.hdf', 'data/modis_co/MOD13A2.A2001081.h09v05.006.2015142193620.hdf', 'data/modis_co/MOD13A2.A2005001.h09v05.006.2015157035738.hdf', 'data/modis_co/MOD13A2.A2002241.h09v05.006.2015150202623.hdf', 'data/modis_co/MOD13A2.A2006273.h09v05.006.2015161202859.hdf', 'data/modis_co/MOD13A2.A2001289.h09v05.006.2015146024404.hdf', 'data/modis_co/MOD13A2.A2006145.h09v05.006.2015161160425.hdf', 'data/modis_co/MOD13A2.A2006017.h09v05.006.2015161112515.hdf', 'data/modis_co/MOD13A2.A2001097.h09v05.006.2015142193021.hdf', 'data/modis_co/MOD13A2.A2005305.h09v05.006.2015157060549.hdf', 'data/modis_co/MOD13A2.A2000241.h09v05.006.2015138080546.hdf', 'data/modis_co/MOD13A2.A2000353.h09v05.006.2018222145619.hdf', 'data/modis_co/MOD13A2.A2008241.h09v05.006.2015179215516.hdf', 'data/modis_co/MOD13A2.A2003193.h09v05.006.2015153110026.hdf', 'data/modis_co/MOD13A2.A2006193.h09v05.006.2015161174510.hdf', 'data/modis_co/MOD13A2.A2003257.h09v05.006.2015153113618.hdf', 'data/modis_co/MOD13A2.A2000225.h09v05.006.2015138071950.hdf', 'data/modis_co/MOD13A2.A2009321.h09v05.006.2015196203120.hdf', 'data/modis_co/MOD13A2.A2007241.h09v05.006.2015164183734.hdf', 'data/modis_co/MOD13A2.A2006161.h09v05.006.2015161172237.hdf', 'data/modis_co/MOD13A2.A2002177.h09v05.006.2015149001133.hdf', 'data/modis_co/MOD13A2.A2005209.h09v05.006.2015157054900.hdf', 'data/modis_co/MOD13A2.A2009225.h09v05.006.2015194144048.hdf', 'data/modis_co/MOD13A2.A2003017.h09v05.006.2015154060157.hdf']\n"
     ]
    }
   ],
   "source": [
    "modis_down = downmodis.downModis(destinationFolder=dest, tiles=tiles,jpg=False, today=day, enddate=enddate, product=product)\n",
    "modis_down.connect()\n",
    "modis_down.downloadsAllDay()\n",
    "MODIS_Files = glob.glob(dest + '*.hdf')\n",
    "print (MODIS_Files)"
   ]
  },
  {
   "cell_type": "code",
   "execution_count": null,
   "metadata": {},
   "outputs": [],
   "source": []
  }
 ],
 "metadata": {
  "kernelspec": {
   "display_name": "Python 3",
   "language": "python",
   "name": "python3"
  },
  "language_info": {
   "codemirror_mode": {
    "name": "ipython",
    "version": 3
   },
   "file_extension": ".py",
   "mimetype": "text/x-python",
   "name": "python",
   "nbconvert_exporter": "python",
   "pygments_lexer": "ipython3",
   "version": "3.6.5"
  }
 },
 "nbformat": 4,
 "nbformat_minor": 2
}
