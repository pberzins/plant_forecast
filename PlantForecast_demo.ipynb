{
 "cells": [
  {
   "cell_type": "code",
   "execution_count": 1,
   "metadata": {},
   "outputs": [
    {
     "name": "stderr",
     "output_type": "stream",
     "text": [
      "/Users/Berzyy/anaconda/lib/python3.6/site-packages/psycopg2/__init__.py:144: UserWarning: The psycopg2 wheel package will be renamed from release 2.8; in order to keep installing from binary please use \"pip install psycopg2-binary\" instead. For details see: <http://initd.org/psycopg/docs/install.html#binary-install-from-pypi>.\n",
      "  \"\"\")\n"
     ]
    }
   ],
   "source": [
    "from src.final_product import PlantForecast\n",
    "import src.cross_validation as cv\n",
    "import matplotlib.pyplot as plt\n",
    "%matplotlib inline\n",
    "\n",
    "from sklearn.ensemble import GradientBoostingRegressor, RandomForestRegressor\n",
    "import os\n",
    "import src.modis_preprocessing as mpre\n",
    "from sklearn.model_selection import train_test_split\n",
    "from sklearn.metrics import mean_squared_error\n",
    "import matplotlib.pyplot as plt\n",
    "from sklearn.linear_model import LinearRegression, Ridge, Lasso\n",
    "import time\n",
    "import matplotlib"
   ]
  },
  {
   "cell_type": "markdown",
   "metadata": {},
   "source": [
    "## Initiate the class PlantForecast()\n",
    "\n",
    "```python\n",
    "pf = PlantForecast()\n",
    "\n",
    "pf.load_metadata()\n",
    "\n",
    "pf.load_ndvi(preloaded=True)\n",
    "\n",
    "pf.load_weather(preloaded=True)\n",
    "\n",
    "pf.merge_modis_weather()\n",
    "```"
   ]
  },
  {
   "cell_type": "code",
   "execution_count": 18,
   "metadata": {},
   "outputs": [],
   "source": [
    "pf = PlantForecast()"
   ]
  },
  {
   "cell_type": "code",
   "execution_count": 19,
   "metadata": {},
   "outputs": [
    {
     "data": {
      "text/plain": [
       "<src.final_product.PlantForecast at 0x1a1805e0f0>"
      ]
     },
     "execution_count": 19,
     "metadata": {},
     "output_type": "execute_result"
    }
   ],
   "source": [
    "pf.load_metadata()"
   ]
  },
  {
   "cell_type": "code",
   "execution_count": 20,
   "metadata": {},
   "outputs": [
    {
     "name": "stdout",
     "output_type": "stream",
     "text": [
      "Preloading from path: preloaded_data/2000_2017_ndvi.csv\n"
     ]
    },
    {
     "data": {
      "text/plain": [
       "<src.final_product.PlantForecast at 0x1a1805e0f0>"
      ]
     },
     "execution_count": 20,
     "metadata": {},
     "output_type": "execute_result"
    }
   ],
   "source": [
    "pf.load_ndvi(preloaded=True)"
   ]
  },
  {
   "cell_type": "code",
   "execution_count": 21,
   "metadata": {},
   "outputs": [
    {
     "name": "stdout",
     "output_type": "stream",
     "text": [
      "Preloading from path: preloaded_data/2000_2017_weather.csv\n"
     ]
    },
    {
     "data": {
      "text/plain": [
       "<src.final_product.PlantForecast at 0x1a1805e0f0>"
      ]
     },
     "execution_count": 21,
     "metadata": {},
     "output_type": "execute_result"
    }
   ],
   "source": [
    "pf.load_weather(preloaded=True)"
   ]
  },
  {
   "cell_type": "code",
   "execution_count": 22,
   "metadata": {},
   "outputs": [
    {
     "data": {
      "text/plain": [
       "<src.final_product.PlantForecast at 0x1a1805e0f0>"
      ]
     },
     "execution_count": 22,
     "metadata": {},
     "output_type": "execute_result"
    }
   ],
   "source": [
    "pf.merge_modis_weather(longterm=110)"
   ]
  },
  {
   "cell_type": "code",
   "execution_count": 23,
   "metadata": {},
   "outputs": [
    {
     "data": {
      "text/html": [
       "<div>\n",
       "<style scoped>\n",
       "    .dataframe tbody tr th:only-of-type {\n",
       "        vertical-align: middle;\n",
       "    }\n",
       "\n",
       "    .dataframe tbody tr th {\n",
       "        vertical-align: top;\n",
       "    }\n",
       "\n",
       "    .dataframe thead th {\n",
       "        text-align: right;\n",
       "    }\n",
       "</style>\n",
       "<table border=\"1\" class=\"dataframe\">\n",
       "  <thead>\n",
       "    <tr style=\"text-align: right;\">\n",
       "      <th></th>\n",
       "      <th>PRCP</th>\n",
       "      <th>SNOW</th>\n",
       "      <th>SNOWD</th>\n",
       "      <th>TMAX</th>\n",
       "      <th>TMIN</th>\n",
       "      <th>LT_precip</th>\n",
       "      <th>LT_snow</th>\n",
       "      <th>LT_snowd</th>\n",
       "      <th>LT_tmax</th>\n",
       "      <th>LT_tmin</th>\n",
       "      <th>NDVI</th>\n",
       "      <th>intercept</th>\n",
       "    </tr>\n",
       "  </thead>\n",
       "  <tbody>\n",
       "    <tr>\n",
       "      <th>2000-03-05</th>\n",
       "      <td>23.6209</td>\n",
       "      <td>7.9926</td>\n",
       "      <td>162.765</td>\n",
       "      <td>143.783</td>\n",
       "      <td>-13.0523</td>\n",
       "      <td>14.9744</td>\n",
       "      <td>7.46165</td>\n",
       "      <td>120.902</td>\n",
       "      <td>122.668</td>\n",
       "      <td>-31.5025</td>\n",
       "      <td>2652.74</td>\n",
       "      <td>1</td>\n",
       "    </tr>\n",
       "    <tr>\n",
       "      <th>2000-03-21</th>\n",
       "      <td>23.0775</td>\n",
       "      <td>15.5269</td>\n",
       "      <td>184.975</td>\n",
       "      <td>141.692</td>\n",
       "      <td>-16.2122</td>\n",
       "      <td>16.575</td>\n",
       "      <td>9.05479</td>\n",
       "      <td>133.558</td>\n",
       "      <td>126.426</td>\n",
       "      <td>-28.4822</td>\n",
       "      <td>2808.49</td>\n",
       "      <td>1</td>\n",
       "    </tr>\n",
       "    <tr>\n",
       "      <th>2000-04-06</th>\n",
       "      <td>37.0565</td>\n",
       "      <td>10.7587</td>\n",
       "      <td>175.614</td>\n",
       "      <td>168.873</td>\n",
       "      <td>17.915</td>\n",
       "      <td>19.9534</td>\n",
       "      <td>9.33585</td>\n",
       "      <td>140.495</td>\n",
       "      <td>133.427</td>\n",
       "      <td>-20.829</td>\n",
       "      <td>2901.39</td>\n",
       "      <td>1</td>\n",
       "    </tr>\n",
       "    <tr>\n",
       "      <th>2000-04-22</th>\n",
       "      <td>15.6428</td>\n",
       "      <td>1.64556</td>\n",
       "      <td>118.099</td>\n",
       "      <td>209.941</td>\n",
       "      <td>39.7163</td>\n",
       "      <td>19.4283</td>\n",
       "      <td>7.73742</td>\n",
       "      <td>138.449</td>\n",
       "      <td>145.526</td>\n",
       "      <td>-11.3395</td>\n",
       "      <td>3185.68</td>\n",
       "      <td>1</td>\n",
       "    </tr>\n",
       "    <tr>\n",
       "      <th>2000-05-08</th>\n",
       "      <td>25.9922</td>\n",
       "      <td>0.96907</td>\n",
       "      <td>72.7078</td>\n",
       "      <td>246.2</td>\n",
       "      <td>73.991</td>\n",
       "      <td>21.7752</td>\n",
       "      <td>7.62824</td>\n",
       "      <td>136.65</td>\n",
       "      <td>163.71</td>\n",
       "      <td>5.24639</td>\n",
       "      <td>3323.33</td>\n",
       "      <td>1</td>\n",
       "    </tr>\n",
       "  </tbody>\n",
       "</table>\n",
       "</div>"
      ],
      "text/plain": [
       "               PRCP     SNOW    SNOWD     TMAX     TMIN LT_precip  LT_snow  \\\n",
       "2000-03-05  23.6209   7.9926  162.765  143.783 -13.0523   14.9744  7.46165   \n",
       "2000-03-21  23.0775  15.5269  184.975  141.692 -16.2122    16.575  9.05479   \n",
       "2000-04-06  37.0565  10.7587  175.614  168.873   17.915   19.9534  9.33585   \n",
       "2000-04-22  15.6428  1.64556  118.099  209.941  39.7163   19.4283  7.73742   \n",
       "2000-05-08  25.9922  0.96907  72.7078    246.2   73.991   21.7752  7.62824   \n",
       "\n",
       "           LT_snowd  LT_tmax  LT_tmin     NDVI  intercept  \n",
       "2000-03-05  120.902  122.668 -31.5025  2652.74          1  \n",
       "2000-03-21  133.558  126.426 -28.4822  2808.49          1  \n",
       "2000-04-06  140.495  133.427  -20.829  2901.39          1  \n",
       "2000-04-22  138.449  145.526 -11.3395  3185.68          1  \n",
       "2000-05-08   136.65   163.71  5.24639  3323.33          1  "
      ]
     },
     "execution_count": 23,
     "metadata": {},
     "output_type": "execute_result"
    }
   ],
   "source": [
    "pf.combined.head()"
   ]
  },
  {
   "cell_type": "code",
   "execution_count": null,
   "metadata": {},
   "outputs": [],
   "source": []
  }
 ],
 "metadata": {
  "kernelspec": {
   "display_name": "Python 3",
   "language": "python",
   "name": "python3"
  },
  "language_info": {
   "codemirror_mode": {
    "name": "ipython",
    "version": 3
   },
   "file_extension": ".py",
   "mimetype": "text/x-python",
   "name": "python",
   "nbconvert_exporter": "python",
   "pygments_lexer": "ipython3",
   "version": "3.6.5"
  }
 },
 "nbformat": 4,
 "nbformat_minor": 2
}
